{
 "cells": [
  {
   "cell_type": "code",
   "execution_count": 1,
   "id": "b51e7b17",
   "metadata": {},
   "outputs": [
    {
     "name": "stdout",
     "output_type": "stream",
     "text": [
      "おやつにいくら使える？300\n",
      "甘いものがいい？Yes\n",
      "カロリーを気にしてる？Yes\n",
      "お豆腐チーズケーキを買う\n"
     ]
    }
   ],
   "source": [
    "question1=int(input(\"おやつにいくら使える？\"))\n",
    "if(question1>=300):\n",
    "    q2=input(\"甘いものがいい？\")\n",
    "    if(q2==\"Yes\"):\n",
    "        q3=input(\"カロリーを気にしてる？\")\n",
    "        if(q3==\"Yes\"):\n",
    "            print(\"お豆腐チーズケーキを買う\")\n",
    "        else:\n",
    "            print(\"濃厚キャラメルチーズタルトを買う\")\n",
    "    else:\n",
    "        print(\"ウーロン茶とポテチを買う\")\n",
    "else:\n",
    "        print(\"チョコドーナツを買う\")\n",
    "        "
   ]
  },
  {
   "cell_type": "code",
   "execution_count": 3,
   "id": "edc29bd9",
   "metadata": {},
   "outputs": [
    {
     "name": "stdout",
     "output_type": "stream",
     "text": [
      "おやつにいくら使える？300\n",
      "甘いものがいい？Y\n",
      "カロリーを気にしてる？N\n",
      "濃厚キャラメルチーズタルトを買う\n"
     ]
    }
   ],
   "source": [
    "q1=int(input(\"おやつにいくら使える？\"))\n",
    "q2=input(\"甘いものがいい？\")\n",
    "q3=input(\"カロリーを気にしてる？\")\n",
    "if((q1>=300)and(q2==\"Y\")and(q3==\"Y\")):\n",
    "   print(\"お豆腐チーズケーキを買う\")\n",
    "elif((q1>=300)and(q2==\"Y\")):\n",
    "   print(\"濃厚キャラメルチーズタルトを買う\")\n",
    "elif(q1>=300):\n",
    "   print(\"ウーロン茶とポテチを買う\")\n",
    "else:\n",
    "   print(\"チョコドーナツを買う\")\n",
    "   "
   ]
  },
  {
   "cell_type": "code",
   "execution_count": null,
   "id": "034ff67d",
   "metadata": {},
   "outputs": [],
   "source": []
  }
 ],
 "metadata": {
  "kernelspec": {
   "display_name": "Python 3 (ipykernel)",
   "language": "python",
   "name": "python3"
  },
  "language_info": {
   "codemirror_mode": {
    "name": "ipython",
    "version": 3
   },
   "file_extension": ".py",
   "mimetype": "text/x-python",
   "name": "python",
   "nbconvert_exporter": "python",
   "pygments_lexer": "ipython3",
   "version": "3.8.11"
  }
 },
 "nbformat": 4,
 "nbformat_minor": 5
}
