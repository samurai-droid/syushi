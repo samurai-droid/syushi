{
 "cells": [
  {
   "cell_type": "code",
   "execution_count": 1,
   "id": "4dcb2c63",
   "metadata": {},
   "outputs": [
    {
     "name": "stdout",
     "output_type": "stream",
     "text": [
      "難しい難しい難しい難しい\n"
     ]
    }
   ],
   "source": [
    "start=\"難しい\"*4\n",
    "print(start)\n"
   ]
  },
  {
   "cell_type": "code",
   "execution_count": 2,
   "id": "8f4903c2",
   "metadata": {},
   "outputs": [
    {
     "name": "stdout",
     "output_type": "stream",
     "text": [
      "明日の天気は\n",
      "雨\tです\n"
     ]
    }
   ],
   "source": [
    "print(\"明日の天気は\\n雨\\tです\")"
   ]
  },
  {
   "cell_type": "code",
   "execution_count": 3,
   "id": "ad7b6731",
   "metadata": {},
   "outputs": [
    {
     "data": {
      "text/plain": [
       "'v'"
      ]
     },
     "execution_count": 3,
     "metadata": {},
     "output_type": "execute_result"
    }
   ],
   "source": [
    "\"drive\"[3]"
   ]
  },
  {
   "cell_type": "code",
   "execution_count": 4,
   "id": "21a61132",
   "metadata": {},
   "outputs": [
    {
     "data": {
      "text/plain": [
       "'i'"
      ]
     },
     "execution_count": 4,
     "metadata": {},
     "output_type": "execute_result"
    }
   ],
   "source": [
    "\"drive\"[-3]"
   ]
  },
  {
   "cell_type": "code",
   "execution_count": 7,
   "id": "a631021b",
   "metadata": {},
   "outputs": [
    {
     "data": {
      "text/plain": [
       "'koutlook.jp'"
      ]
     },
     "execution_count": 7,
     "metadata": {},
     "output_type": "execute_result"
    }
   ],
   "source": [
    "\"pcdkoutlook.jp\"[3:]"
   ]
  },
  {
   "cell_type": "code",
   "execution_count": 8,
   "id": "6d5cf7fd",
   "metadata": {},
   "outputs": [
    {
     "data": {
      "text/plain": [
       "'pcd'"
      ]
     },
     "execution_count": 8,
     "metadata": {},
     "output_type": "execute_result"
    }
   ],
   "source": [
    "\"pcdk@outlook.jp\"[:3]"
   ]
  },
  {
   "cell_type": "code",
   "execution_count": 9,
   "id": "10d10d6c",
   "metadata": {},
   "outputs": [
    {
     "data": {
      "text/plain": [
       "'tlook.jp'"
      ]
     },
     "execution_count": 9,
     "metadata": {},
     "output_type": "execute_result"
    }
   ],
   "source": [
    "\"pcdkoutlook.jp\"[-8:]"
   ]
  },
  {
   "cell_type": "code",
   "execution_count": 10,
   "id": "2a3d71d3",
   "metadata": {},
   "outputs": [
    {
     "data": {
      "text/plain": [
       "'outlook'"
      ]
     },
     "execution_count": 10,
     "metadata": {},
     "output_type": "execute_result"
    }
   ],
   "source": [
    "\"pcdkoutlook.jp\"[4:-3]"
   ]
  },
  {
   "cell_type": "code",
   "execution_count": 11,
   "id": "1167e6f4",
   "metadata": {},
   "outputs": [
    {
     "data": {
      "text/plain": [
       "'pdotokj'"
      ]
     },
     "execution_count": 11,
     "metadata": {},
     "output_type": "execute_result"
    }
   ],
   "source": [
    "\"pcdkoutlook.jp\"[::2]"
   ]
  },
  {
   "cell_type": "code",
   "execution_count": 12,
   "id": "e80c6113",
   "metadata": {},
   "outputs": [
    {
     "data": {
      "text/plain": [
       "48"
      ]
     },
     "execution_count": 12,
     "metadata": {},
     "output_type": "execute_result"
    }
   ],
   "source": [
    "len(\"aaaaaaaaaaaaaaaaaaaaaaaaaaaaaaaaaaaaaaaaaaaaaaaa\")"
   ]
  },
  {
   "cell_type": "code",
   "execution_count": 13,
   "id": "9cf3155b",
   "metadata": {},
   "outputs": [
    {
     "data": {
      "text/plain": [
       "['', 'b', 'b', 'b', 'b', 'b', 'b', 'b', 'b', 'b', 'b', 'b', 'b', 'b', '']"
      ]
     },
     "execution_count": 13,
     "metadata": {},
     "output_type": "execute_result"
    }
   ],
   "source": [
    "\"abababababababababababababa\".split(\"a\")"
   ]
  },
  {
   "cell_type": "code",
   "execution_count": 14,
   "id": "f39bf23a",
   "metadata": {},
   "outputs": [
    {
     "data": {
      "text/plain": [
       "['足立区', '南区', '杜王町']"
      ]
     },
     "execution_count": 14,
     "metadata": {},
     "output_type": "execute_result"
    }
   ],
   "source": [
    "\"足立区　南区　杜王町\".split(\"　\")"
   ]
  },
  {
   "cell_type": "code",
   "execution_count": 20,
   "id": "7289dddc",
   "metadata": {},
   "outputs": [
    {
     "name": "stdout",
     "output_type": "stream",
     "text": [
      "こんばんは,こんばんは、パイソンです\n",
      "調子はどう？,こんばんは、パイソンです\n",
      "こんばんは,こんばんは、パイソンです\n"
     ]
    }
   ],
   "source": [
    "str=\"こんばんは,こんばんは、パイソンです\"\n",
    "print(str)\n",
    "print(str.replace(\"こんばんは\",\"調子はどう？\",1))\n",
    "print(str)"
   ]
  },
  {
   "cell_type": "code",
   "execution_count": 21,
   "id": "2d09c187",
   "metadata": {},
   "outputs": [
    {
     "name": "stdout",
     "output_type": "stream",
     "text": [
      "パイソンさん、こんにちは、元気ですか？\n"
     ]
    }
   ],
   "source": [
    "str=\"{}さん、こんにちは、{}ですか？\".format(\"パイソン\",\"元気\")\n",
    "print(str)"
   ]
  },
  {
   "cell_type": "code",
   "execution_count": null,
   "id": "19d1cd02",
   "metadata": {},
   "outputs": [],
   "source": []
  },
  {
   "cell_type": "code",
   "execution_count": 22,
   "id": "e97b3ff8",
   "metadata": {},
   "outputs": [
    {
     "name": "stdout",
     "output_type": "stream",
     "text": [
      "元気さん、こんにちは、パイソンですか？\n"
     ]
    }
   ],
   "source": [
    "str=\"{1}さん、こんにちは、{0}ですか？\".format(\"パイソン\",\"元気\")\n",
    "print(str)"
   ]
  },
  {
   "cell_type": "code",
   "execution_count": 24,
   "id": "e1e8e098",
   "metadata": {},
   "outputs": [
    {
     "name": "stdout",
     "output_type": "stream",
     "text": [
      "名前うんち\n",
      "状態元気\n",
      "うんちさん、こんにちは、元気ですか？\n"
     ]
    }
   ],
   "source": [
    "x=(input(\"名前\"))\n",
    "y=(input(\"状態\"))\n",
    "print(\"{}さん、こんにちは、{}ですか？\".format(x,y))"
   ]
  },
  {
   "cell_type": "code",
   "execution_count": 27,
   "id": "1a618288",
   "metadata": {},
   "outputs": [
    {
     "data": {
      "text/plain": [
       "'0.167と0.33333'"
      ]
     },
     "execution_count": 27,
     "metadata": {},
     "output_type": "execute_result"
    }
   ],
   "source": [
    "\"{1:.3f}と{0:.5f}\".format(1/3,1/6)"
   ]
  },
  {
   "cell_type": "code",
   "execution_count": 30,
   "id": "16280519",
   "metadata": {},
   "outputs": [
    {
     "data": {
      "text/plain": [
       "'10,000,000,000'"
      ]
     },
     "execution_count": 30,
     "metadata": {},
     "output_type": "execute_result"
    }
   ],
   "source": [
    "\"{:,}\".format(10**10)"
   ]
  },
  {
   "cell_type": "code",
   "execution_count": 31,
   "id": "b82fb264",
   "metadata": {},
   "outputs": [],
   "source": [
    "str=[2,3,4,5,7]"
   ]
  },
  {
   "cell_type": "code",
   "execution_count": 35,
   "id": "3cece2c8",
   "metadata": {},
   "outputs": [
    {
     "name": "stdout",
     "output_type": "stream",
     "text": [
      "['うんち', 'パン,ごはん']\n"
     ]
    },
    {
     "data": {
      "text/plain": [
       "'パン,ごはん'"
      ]
     },
     "execution_count": 35,
     "metadata": {},
     "output_type": "execute_result"
    }
   ],
   "source": [
    "str=[]\n",
    "str.append(\"うんち\")\n",
    "str.append(\"パン,ごはん\")\n",
    "print(str)\n",
    "str[1]"
   ]
  },
  {
   "cell_type": "code",
   "execution_count": 36,
   "id": "747cc99f",
   "metadata": {},
   "outputs": [
    {
     "data": {
      "text/plain": [
       "[0, 1, 2, 3, 4, 5, 6, 7, 8, 9]"
      ]
     },
     "execution_count": 36,
     "metadata": {},
     "output_type": "execute_result"
    }
   ],
   "source": [
    "list(range(10))"
   ]
  },
  {
   "cell_type": "code",
   "execution_count": 37,
   "id": "9bd4b2b4",
   "metadata": {},
   "outputs": [
    {
     "data": {
      "text/plain": [
       "['はがねのつるぎ', 'くさりがま', 'まどうしのつえ']"
      ]
     },
     "execution_count": 37,
     "metadata": {},
     "output_type": "execute_result"
    }
   ],
   "source": [
    "weapon=[\"はがねのつるぎ\",\"くさりがま\",\"まどうしのつえ\",\"メガトンハンマー\"]\n",
    "weapon[0:3]"
   ]
  },
  {
   "cell_type": "code",
   "execution_count": 38,
   "id": "eae6e993",
   "metadata": {},
   "outputs": [
    {
     "data": {
      "text/plain": [
       "['はがねのつるぎ', 'まどうしのつえ']"
      ]
     },
     "execution_count": 38,
     "metadata": {},
     "output_type": "execute_result"
    }
   ],
   "source": [
    "weapon[::2]"
   ]
  },
  {
   "cell_type": "code",
   "execution_count": null,
   "id": "7ae9d413",
   "metadata": {},
   "outputs": [],
   "source": []
  }
 ],
 "metadata": {
  "kernelspec": {
   "display_name": "Python 3 (ipykernel)",
   "language": "python",
   "name": "python3"
  },
  "language_info": {
   "codemirror_mode": {
    "name": "ipython",
    "version": 3
   },
   "file_extension": ".py",
   "mimetype": "text/x-python",
   "name": "python",
   "nbconvert_exporter": "python",
   "pygments_lexer": "ipython3",
   "version": "3.8.11"
  }
 },
 "nbformat": 4,
 "nbformat_minor": 5
}
