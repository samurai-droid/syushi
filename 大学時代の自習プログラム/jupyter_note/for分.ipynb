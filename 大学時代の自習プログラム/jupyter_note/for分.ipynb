{
 "cells": [
  {
   "cell_type": "code",
   "execution_count": null,
   "id": "420bdf7b",
   "metadata": {},
   "outputs": [],
   "source": [
    "for count in range(5):\n",
    "    print(count)"
   ]
  },
  {
   "cell_type": "code",
   "execution_count": null,
   "id": "fb8efa59",
   "metadata": {},
   "outputs": [],
   "source": [
    "b=input(\"名前は？\")\n",
    "mamono1=\"魔物たちはひるんでいる！\"\n",
    "mamono2=\"魔物たちは退散した！\"\n",
    "\n",
    "if(b):\n",
    "    for count in range(10):\n",
    "        if(count%2==0):\n",
    "            print(b+\"の攻撃！\")\n",
    "        else:\n",
    "            print(mamono1)\n",
    "    print(mamono2)\n",
    "else:\n",
    "    print(\"ゲーム終了！\")"
   ]
  },
  {
   "cell_type": "code",
   "execution_count": null,
   "id": "b59d7e3e",
   "metadata": {},
   "outputs": [],
   "source": [
    "import random\n",
    "print(\"魔物たちが現れた！\")\n",
    "b=input(\"名前は？\")\n",
    "b1=b+\"の攻撃！\"\n",
    "b2=b+\"は魔法を唱えた！\"\n",
    "mamono2=\"魔物たちが反撃した！\"\n",
    "mammono1=\"魔物がひるんだ！\"\n",
    "if(b):\n",
    "    print(b1)\n",
    "    for count in range(10):\n",
    "        x=random.randint(1,10)\n",
    "        if(x<=3):\n",
    "            print(b1)\n",
    "        elif x>=4 and x<=6:\n",
    "            print(b2)\n",
    "        elif x>=7 and x<=9:\n",
    "            print(mamono1)\n",
    "        else:\n",
    "            print(mamono2)\n",
    "    print(\"魔物たちは退散した！\")\n",
    "else:\n",
    "    print(\"ゲーム終了！\")\n",
    "    "
   ]
  },
  {
   "cell_type": "code",
   "execution_count": 2,
   "id": "3a262cda",
   "metadata": {},
   "outputs": [
    {
     "name": "stdout",
     "output_type": "stream",
     "text": [
      "魔物たちが現れた！\n",
      "名前は？うんち\n",
      "うんちの呪文を取得うんち\n",
      "うんちは「うんち」の呪文を唱えた！\n",
      "魔物たちは様子をうかがっている\n",
      "うんちの呪文を取得ザラキ\n",
      "うんちは「ザラキ」の呪文を唱えた！\n",
      "魔物たちは全滅した！\n"
     ]
    }
   ],
   "source": [
    "print(\"魔物たちが現れた！\")\n",
    "b=input(\"名前は？\")\n",
    "prompt=b+\"の呪文\"\n",
    "attack=\"\"\n",
    "\n",
    "while attack !=\"ザラキ\":\n",
    "    attack=input(\"\"+prompt)\n",
    "    print(b+\"は「\"+attack+\"」の呪文を唱えた！\")\n",
    "    if attack != \"ザラキ\":\n",
    "        print(\"魔物たちは様子をうかがっている\")\n",
    "print(\"魔物たちは全滅した！\")\n",
    "#イズノットはtrue falseに対してしか使えない。ある〇〇と同じかどうかという条件には使えない\n",
    "#inputは若干printの役割を果たす"
   ]
  },
  {
   "cell_type": "code",
   "execution_count": null,
   "id": "3dd9ad06",
   "metadata": {},
   "outputs": [],
   "source": []
  }
 ],
 "metadata": {
  "kernelspec": {
   "display_name": "Python 3 (ipykernel)",
   "language": "python",
   "name": "python3"
  },
  "language_info": {
   "codemirror_mode": {
    "name": "ipython",
    "version": 3
   },
   "file_extension": ".py",
   "mimetype": "text/x-python",
   "name": "python",
   "nbconvert_exporter": "python",
   "pygments_lexer": "ipython3",
   "version": "3.8.11"
  }
 },
 "nbformat": 4,
 "nbformat_minor": 5
}
