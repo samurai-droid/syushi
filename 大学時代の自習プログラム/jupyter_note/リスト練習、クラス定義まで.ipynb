{
 "cells": [
  {
   "cell_type": "code",
   "execution_count": null,
   "id": "77004ee5",
   "metadata": {},
   "outputs": [],
   "source": [
    "alist=[n for n in range(1,6) if n%2==0]\n",
    "alist"
   ]
  },
  {
   "cell_type": "code",
   "execution_count": null,
   "id": "19ffb4c8",
   "metadata": {},
   "outputs": [],
   "source": [
    "spell=\"米良\",\"ホイミ\",\"イオ\"\n",
    "a,b,c=spell\n",
    "a"
   ]
  },
  {
   "cell_type": "code",
   "execution_count": null,
   "id": "b45f3c39",
   "metadata": {},
   "outputs": [],
   "source": [
    "menu={\"朝食\":\"シリアル\",\"昼食\":\"パスタ\",\"夕食\":\"ハンバーグ\"}\n",
    "menu\n"
   ]
  },
  {
   "cell_type": "code",
   "execution_count": null,
   "id": "aca7ae2c",
   "metadata": {},
   "outputs": [],
   "source": [
    "menu[\"昼食\"]"
   ]
  },
  {
   "cell_type": "code",
   "execution_count": null,
   "id": "6d56988e",
   "metadata": {},
   "outputs": [],
   "source": [
    "menu[\"おやつ\"]=\"おやき\"\n",
    "menu"
   ]
  },
  {
   "cell_type": "code",
   "execution_count": null,
   "id": "3ade8286",
   "metadata": {},
   "outputs": [],
   "source": [
    "del menu[\"おやつ\"]\n",
    "menu"
   ]
  },
  {
   "cell_type": "code",
   "execution_count": null,
   "id": "99aeb116",
   "metadata": {},
   "outputs": [],
   "source": [
    "for key in menu:\n",
    "    print(key)"
   ]
  },
  {
   "cell_type": "code",
   "execution_count": null,
   "id": "9d4e4eed",
   "metadata": {},
   "outputs": [],
   "source": [
    "str=menu.keys()\n",
    "print(str)"
   ]
  },
  {
   "cell_type": "code",
   "execution_count": null,
   "id": "2cc7ffea",
   "metadata": {},
   "outputs": [],
   "source": [
    "str=menu.values()\n",
    "print(str)"
   ]
  },
  {
   "cell_type": "code",
   "execution_count": null,
   "id": "f7ab7a2c",
   "metadata": {},
   "outputs": [],
   "source": [
    "for n in menu.values():\n",
    "    print(n)"
   ]
  },
  {
   "cell_type": "code",
   "execution_count": null,
   "id": "da857541",
   "metadata": {},
   "outputs": [],
   "source": [
    "str=menu.items()\n",
    "print(str)"
   ]
  },
  {
   "cell_type": "code",
   "execution_count": null,
   "id": "33903474",
   "metadata": {},
   "outputs": [],
   "source": [
    "for key,value in menu.items():\n",
    "    print(\"「{}」は{}なのです。\".format(key,value))"
   ]
  },
  {
   "cell_type": "code",
   "execution_count": null,
   "id": "857e3b69",
   "metadata": {},
   "outputs": [],
   "source": [
    "for key in menu.items():\n",
    "    print(key)"
   ]
  },
  {
   "cell_type": "code",
   "execution_count": null,
   "id": "8b84c936",
   "metadata": {},
   "outputs": [],
   "source": [
    "s=[[\"メタル\",\"スライム\"],[\"ホイミ\",\"スライム\"],[\"うんち\",\"スライム\"]]\n",
    "dict(s)"
   ]
  },
  {
   "cell_type": "code",
   "execution_count": null,
   "id": "5f0daf5d",
   "metadata": {},
   "outputs": [],
   "source": [
    "menu.update(s)\n",
    "menu"
   ]
  },
  {
   "cell_type": "code",
   "execution_count": null,
   "id": "4b324eda",
   "metadata": {},
   "outputs": [],
   "source": [
    "menu=s.copy()\n",
    "menu"
   ]
  },
  {
   "cell_type": "code",
   "execution_count": null,
   "id": "a8f0667d",
   "metadata": {},
   "outputs": [],
   "source": [
    "s=\"sss\"\n",
    "menu"
   ]
  },
  {
   "cell_type": "code",
   "execution_count": null,
   "id": "03628ce9",
   "metadata": {},
   "outputs": [],
   "source": [
    "s"
   ]
  },
  {
   "cell_type": "code",
   "execution_count": null,
   "id": "dfd84427",
   "metadata": {},
   "outputs": [],
   "source": [
    "menu.clear()\n",
    "menu"
   ]
  },
  {
   "cell_type": "code",
   "execution_count": 2,
   "id": "10b0d622",
   "metadata": {},
   "outputs": [
    {
     "name": "stdout",
     "output_type": "stream",
     "text": [
      "スライムが現れた！\n",
      " >>>>勇者はロトの剣を振りかざした！\n",
      " >>>>スライムがはんげきした！\n",
      "ひる子が現れた！\n",
      " >>>>勇者は稲妻の件を振りかざした！\n",
      " >>>>ひる子がぼうぎょした！\n",
      "雅子が現れた！\n",
      " >>>>勇者は王者の剣を振りかざした！\n",
      " >>>>雅子が逃走した！\n"
     ]
    }
   ],
   "source": [
    "monster=[\"スライム\",\"ひる子\",\"雅子\"]\n",
    "attack=[\"ロトの剣\",\"稲妻の件\",\"王者の剣\"]\n",
    "fight_back=[\"はんげき\",\"ぼうぎょ\",\"逃走\"]\n",
    "for mst,atc,fb in zip(monster,attack,fight_back):\n",
    "    print(mst+\"が現れた！\\n\",\">>>>勇者は{}を振りかざした！\".format(atc)+\"\\n\",\">>>>{}が{}した！\".format(mst,fb))\n",
    "        "
   ]
  },
  {
   "cell_type": "code",
   "execution_count": 3,
   "id": "2eedddb3",
   "metadata": {},
   "outputs": [
    {
     "name": "stdout",
     "output_type": "stream",
     "text": [
      "[('スライム', 'ロトの剣'), ('ひる子', '稲妻の件'), ('雅子', '王者の剣')]\n"
     ]
    }
   ],
   "source": [
    "lis=list(zip(monster,attack))\n",
    "print(lis)"
   ]
  },
  {
   "cell_type": "code",
   "execution_count": 4,
   "id": "d49b340c",
   "metadata": {},
   "outputs": [
    {
     "name": "stdout",
     "output_type": "stream",
     "text": [
      "[(('スライム', 'ロトの剣'), 'はんげき'), (('ひる子', '稲妻の件'), 'ぼうぎょ'), (('雅子', '王者の剣'), '逃走')]\n"
     ]
    }
   ],
   "source": [
    "res=list(zip(lis,fight_back))\n",
    "print(res)"
   ]
  },
  {
   "cell_type": "code",
   "execution_count": 7,
   "id": "d999c915",
   "metadata": {},
   "outputs": [
    {
     "name": "stdout",
     "output_type": "stream",
     "text": [
      "{'スライム': 'ロトの剣', 'ひる子': '稲妻の件', '雅子': '王者の剣'}\n"
     ]
    }
   ],
   "source": [
    "dc={i:j for (i,j)in zip(monster,attack)}\n",
    "print(dc)"
   ]
  },
  {
   "cell_type": "code",
   "execution_count": 8,
   "id": "4f12d25c",
   "metadata": {},
   "outputs": [
    {
     "name": "stdout",
     "output_type": "stream",
     "text": [
      "{'スライム': 'ロトの剣', 'ひる子': '稲妻の件', '雅子': '王者の剣'}\n"
     ]
    }
   ],
   "source": [
    "ac=dict(zip(monster,attack))\n",
    "print(ac)"
   ]
  },
  {
   "cell_type": "code",
   "execution_count": 17,
   "id": "e7977c83",
   "metadata": {},
   "outputs": [
    {
     "data": {
      "text/plain": [
       "{'', 'アメリア', 'ロシア', '日本'}"
      ]
     },
     "execution_count": 17,
     "metadata": {},
     "output_type": "execute_result"
    }
   ],
   "source": [
    "data={\"日本\",\"アメリア\",\"日本\",\"ロシア\",\"\"}\n",
    "data1={\"イギリス\",\"日本\"}\n",
    "data_syugou=set(data)\n",
    "data_syugou\n",
    "\n",
    "\n"
   ]
  },
  {
   "cell_type": "code",
   "execution_count": 18,
   "id": "c7ea6ba1",
   "metadata": {},
   "outputs": [
    {
     "data": {
      "text/plain": [
       "{'', 'アメリア', 'ロシア'}"
      ]
     },
     "execution_count": 18,
     "metadata": {},
     "output_type": "execute_result"
    }
   ],
   "source": [
    "data-data1"
   ]
  },
  {
   "cell_type": "code",
   "execution_count": 19,
   "id": "18b7ae89",
   "metadata": {},
   "outputs": [
    {
     "data": {
      "text/plain": [
       "{'日本'}"
      ]
     },
     "execution_count": 19,
     "metadata": {},
     "output_type": "execute_result"
    }
   ],
   "source": [
    "data&data1"
   ]
  },
  {
   "cell_type": "code",
   "execution_count": 20,
   "id": "32f21c56",
   "metadata": {},
   "outputs": [
    {
     "data": {
      "text/plain": [
       "{'', 'アメリア', 'イギリス', 'ロシア', '日本'}"
      ]
     },
     "execution_count": 20,
     "metadata": {},
     "output_type": "execute_result"
    }
   ],
   "source": [
    "data1.union(data)"
   ]
  },
  {
   "cell_type": "code",
   "execution_count": 21,
   "id": "a9ff10e9",
   "metadata": {},
   "outputs": [
    {
     "data": {
      "text/plain": [
       "{'日本'}"
      ]
     },
     "execution_count": 21,
     "metadata": {},
     "output_type": "execute_result"
    }
   ],
   "source": [
    "data1.intersection(data)"
   ]
  },
  {
   "cell_type": "code",
   "execution_count": 24,
   "id": "f2ebfcaa",
   "metadata": {},
   "outputs": [
    {
     "name": "stdout",
     "output_type": "stream",
     "text": [
      "僕の\n",
      "名前は\n",
      "パイソン\n",
      "と申します。\n"
     ]
    },
    {
     "data": {
      "text/plain": [
       "'僕の\\n名前は\\nパイソン\\nと申します。'"
      ]
     },
     "execution_count": 24,
     "metadata": {},
     "output_type": "execute_result"
    }
   ],
   "source": [
    "sentence=\"僕の　名前は　パイソン　と申します。\"\n",
    "list=sentence.split(\"　\")\n",
    "join=\"\\n\".join(list)\n",
    "print(join)\n",
    "join"
   ]
  },
  {
   "cell_type": "code",
   "execution_count": 25,
   "id": "14cf168b",
   "metadata": {},
   "outputs": [
    {
     "name": "stdout",
     "output_type": "stream",
     "text": [
      "僕の名前はパイソンと申します。\n"
     ]
    },
    {
     "data": {
      "text/plain": [
       "'僕の名前はパイソンと申します。'"
      ]
     },
     "execution_count": 25,
     "metadata": {},
     "output_type": "execute_result"
    }
   ],
   "source": [
    "sentence=\"僕の　名前は　パイソン　と申します。\"\n",
    "list=sentence.split(\"　\")\n",
    "join=\"\".join(list)\n",
    "print(join)\n",
    "join"
   ]
  },
  {
   "cell_type": "code",
   "execution_count": 27,
   "id": "19a72a38",
   "metadata": {},
   "outputs": [
    {
     "name": "stdout",
     "output_type": "stream",
     "text": [
      "はぐれメタルが現れた！\n"
     ]
    }
   ],
   "source": [
    "def appear():\n",
    "    print(\"はぐれメタルが現れた！\")\n",
    "appear()"
   ]
  },
  {
   "cell_type": "code",
   "execution_count": 29,
   "id": "81f32e22",
   "metadata": {},
   "outputs": [
    {
     "name": "stdout",
     "output_type": "stream",
     "text": [
      "うんちとハガネールが現れた！\n"
     ]
    }
   ],
   "source": [
    "def appear(m1,m2):\n",
    "    result=\"{}と{}が現れた！\".format(m1,m2)\n",
    "    return result\n",
    "show=appear(\"うんち\",\"ハガネール\")\n",
    "print(show)"
   ]
  },
  {
   "cell_type": "code",
   "execution_count": 32,
   "id": "89a9aa3d",
   "metadata": {},
   "outputs": [],
   "source": [
    "class test:\n",
    "    def show(self,val):\n",
    "        print(self,val)"
   ]
  },
  {
   "cell_type": "code",
   "execution_count": 34,
   "id": "38210ec4",
   "metadata": {},
   "outputs": [
    {
     "data": {
      "text/plain": [
       "'3.14'"
      ]
     },
     "execution_count": 34,
     "metadata": {},
     "output_type": "execute_result"
    }
   ],
   "source": [
    "num=str(3.14)\n",
    "num"
   ]
  },
  {
   "cell_type": "code",
   "execution_count": 38,
   "id": "cdc11402",
   "metadata": {},
   "outputs": [
    {
     "name": "stdout",
     "output_type": "stream",
     "text": [
      "<__main__.test object at 0x00000233943E39D0> こんにちは\n"
     ]
    }
   ],
   "source": [
    "Test=test()\n",
    "Test.show(\"こんにちは\")"
   ]
  },
  {
   "cell_type": "code",
   "execution_count": null,
   "id": "4c99085e",
   "metadata": {},
   "outputs": [],
   "source": []
  }
 ],
 "metadata": {
  "kernelspec": {
   "display_name": "Python 3",
   "language": "python",
   "name": "python3"
  },
  "language_info": {
   "codemirror_mode": {
    "name": "ipython",
    "version": 3
   },
   "file_extension": ".py",
   "mimetype": "text/x-python",
   "name": "python",
   "nbconvert_exporter": "python",
   "pygments_lexer": "ipython3",
   "version": "3.8.8"
  }
 },
 "nbformat": 4,
 "nbformat_minor": 5
}
