{
 "cells": [
  {
   "cell_type": "code",
   "execution_count": 4,
   "id": "647099f1",
   "metadata": {},
   "outputs": [
    {
     "name": "stdout",
     "output_type": "stream",
     "text": [
      "[0.269 0.731]\n"
     ]
    }
   ],
   "source": [
    "import numpy as np\n",
    "def softmax_function(x):\n",
    "    return np.exp(x)/np.sum(np.exp(x))\n",
    "\n",
    "a=np.array([1,2])\n",
    "np.set_printoptions(precision=3)\n",
    "y=softmax_function(a)\n",
    "print(y)"
   ]
  },
  {
   "cell_type": "code",
   "execution_count": null,
   "id": "a03fb9b2",
   "metadata": {},
   "outputs": [],
   "source": []
  }
 ],
 "metadata": {
  "kernelspec": {
   "display_name": "Python 3 (ipykernel)",
   "language": "python",
   "name": "python3"
  },
  "language_info": {
   "codemirror_mode": {
    "name": "ipython",
    "version": 3
   },
   "file_extension": ".py",
   "mimetype": "text/x-python",
   "name": "python",
   "nbconvert_exporter": "python",
   "pygments_lexer": "ipython3",
   "version": "3.9.12"
  }
 },
 "nbformat": 4,
 "nbformat_minor": 5
}
